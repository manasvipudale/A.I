{
  "nbformat": 4,
  "nbformat_minor": 0,
  "metadata": {
    "colab": {
      "provenance": []
    },
    "kernelspec": {
      "name": "python3",
      "display_name": "Python 3"
    },
    "language_info": {
      "name": "python"
    }
  },
  "cells": [
    {
      "cell_type": "code",
      "source": [
        "# Function to check if two queens threaten each other or not\n",
        "def isSafe(mat, r, c):\n",
        "    # return false if two queens share the same column\n",
        "    for i in range(r):\n",
        "        if mat[i][c] == 'Q':\n",
        "            return False\n",
        "\n",
        "    # return false if two queens share the same `\\` diagonal\n",
        "    i, j = r, c\n",
        "    while i >= 0 and j >= 0:\n",
        "        if mat[i][j] == 'Q':\n",
        "            return False\n",
        "        i -= 1\n",
        "        j -= 1\n",
        "\n",
        "    # return false if two queens share the same `/` diagonal\n",
        "    i, j = r, c\n",
        "    while i >= 0 and j < len(mat):\n",
        "        if mat[i][j] == 'Q':\n",
        "            return False\n",
        "        i -= 1\n",
        "        j += 1\n",
        "\n",
        "    return True\n",
        "\n",
        "def printSolution(mat):\n",
        "    for r in mat:\n",
        "        print(\"\".join(r))\n",
        "    print()\n",
        "\n",
        "def nQueen(mat, r):\n",
        "    # if `N` queens are placed successfully, print the solution\n",
        "    if r == len(mat):\n",
        "        printSolution(mat)\n",
        "        return\n",
        "\n",
        "    # place queen at every square in the current row `r`\n",
        "    # and recur for each valid movement\n",
        "    for i in range(len(mat)):\n",
        "        # if no two queens threaten each other\n",
        "        if isSafe(mat, r, i):\n",
        "            # place queen on the current square\n",
        "            mat[r][i] = 'Q'\n",
        "            # recur for the next row\n",
        "            nQueen(mat, r + 1)\n",
        "            # backtrack and remove the queen from the current square\n",
        "            mat[r][i] = '-'\n",
        "\n",
        "if __name__ == '__main__':\n",
        "    # `N × N` chessboard\n",
        "    N = 4\n",
        "    # `mat[][]` keeps track of the position of queens in\n",
        "    # the current configuration\n",
        "    mat = [['-' for x in range(N)] for y in range(N)]\n",
        "    nQueen(mat, 0)\n"
      ],
      "metadata": {
        "colab": {
          "base_uri": "https://localhost:8080/"
        },
        "id": "Pvg0oP9ggYVO",
        "outputId": "a27d2ea4-c17d-4cf1-efad-96635d4fd23d"
      },
      "execution_count": null,
      "outputs": [
        {
          "output_type": "stream",
          "name": "stdout",
          "text": [
            "-Q--\n",
            "---Q\n",
            "Q---\n",
            "--Q-\n",
            "\n",
            "--Q-\n",
            "Q---\n",
            "---Q\n",
            "-Q--\n",
            "\n"
          ]
        }
      ]
    }
  ]
}