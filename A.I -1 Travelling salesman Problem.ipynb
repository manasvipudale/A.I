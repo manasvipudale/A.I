{
  "nbformat": 4,
  "nbformat_minor": 0,
  "metadata": {
    "colab": {
      "provenance": [],
      "toc_visible": true
    },
    "kernelspec": {
      "name": "python3",
      "display_name": "Python 3"
    },
    "language_info": {
      "name": "python"
    }
  },
  "cells": [
    {
      "cell_type": "markdown",
      "source": [
        "Name=Manasvi Pudale\n",
        "Ronn_no=3352\n",
        "problem statement: Identify and implement heuristic and search strategy for traveling Salesperson Problem"
      ],
      "metadata": {
        "id": "xBPLGx4bJWSa"
      }
    },
    {
      "cell_type": "code",
      "execution_count": null,
      "metadata": {
        "id": "eodBRWzU_hQY"
      },
      "outputs": [],
      "source": [
        "import sys"
      ]
    },
    {
      "cell_type": "code",
      "source": [
        "def nearest_neighbour(curr,unvisited,dist_matrix):\n",
        "  \"\"\"Returns the nearest neighbour\"\"\"\n",
        "  nearest=sys.maxsize\n",
        "  neighbour= None\n",
        "  for city in unvisited:\n",
        "    if dist_matrix[curr][city] < nearest:\n",
        "      nearest=dist_matrix[curr][city]\n",
        "      neighbour=city\n",
        "  return neighbour,nearest"
      ],
      "metadata": {
        "id": "6XtChaxwDV4Q"
      },
      "execution_count": null,
      "outputs": []
    },
    {
      "cell_type": "code",
      "source": [
        "def tsp_nn(dist_matrix,i):\n",
        "  \"\"\"solves the tsp problem using nearest neighbour algorithm\"\"\"\n",
        "  n=len(dist_matrix)\n",
        "  tour=[0]*(n+1) #Initi`alize the tour\n",
        "  unvisited=set(range(1,n)) #set of unvisited cities\n",
        "  curr_city=i #starting city\n",
        "  for i in range(1,n):\n",
        "      next_city,dist=nearest_neighbour(curr_city,unvisited,dist_matrix)\n",
        "      tour[i]=next_city\n",
        "      curr_city=next_city\n",
        "      unvisited.remove(next_city)\n",
        "      #return to starting city\n",
        "\n",
        "\n",
        "  tour[n-4]=0\n",
        "  #calculate the total cost of the tour\n",
        "  cost=sum(dist_matrix[tour[i]][tour[i+1]] for i in range(n-1))\n",
        "  cost+=dist_matrix[tour[n-1]][tour[0]]\n",
        "  return tour,cost"
      ],
      "metadata": {
        "id": "Lk2op1qWECyE"
      },
      "execution_count": null,
      "outputs": []
    },
    {
      "cell_type": "code",
      "source": [
        "1\n",
        "#example\n",
        "dist_matrix=[]\n",
        "r=int(input(\"enter the size of matrix:\"))\n",
        "for i in range(r):\n",
        "  r=list(map(int,input().split()))\n",
        "  dist_matrix.append(r)\n",
        "print(\"\\n the distance matrix is: \\n\")\n",
        "for i in dist_matrix:\n",
        "  print(*i)\n",
        "\n",
        "final_cost=[]\n",
        "for i in range(0,len(dist_matrix)):\n",
        "  tour,cost=tsp_nn(dist_matrix,i)\n",
        "  print(\"Tour\",tour)\n",
        "  print(\"Total Cost\",cost)\n",
        "  final_cost.append(cost)\n",
        "  cost=0\n",
        "print(\"Minimum cost:\",min(final_cost))"
      ],
      "metadata": {
        "colab": {
          "base_uri": "https://localhost:8080/"
        },
        "id": "YObR-BWeHZXs",
        "outputId": "460f07ad-d296-4cab-8c1b-a43eeaeeb35c"
      },
      "execution_count": null,
      "outputs": [
        {
          "output_type": "stream",
          "name": "stdout",
          "text": [
            "enter the size of matrix:4\n",
            "0 10 15 20\n",
            "10 0 35 25\n",
            "15 35 0 30\n",
            "20 25 30 0\n",
            "\n",
            " the distance matrix is: \n",
            "\n",
            "0 10 15 20\n",
            "10 0 35 25\n",
            "15 35 0 30\n",
            "20 25 30 0\n",
            "Tour [0, 1, 3, 2, 0]\n",
            "Total Cost 80\n",
            "Tour [0, 1, 3, 2, 0]\n",
            "Total Cost 80\n",
            "Tour [0, 2, 3, 1, 0]\n",
            "Total Cost 80\n",
            "Tour [0, 3, 1, 2, 0]\n",
            "Total Cost 95\n",
            "Minimum cost: 80\n"
          ]
        }
      ]
    },
    {
      "cell_type": "code",
      "source": [],
      "metadata": {
        "id": "D4m6OW46H4hq"
      },
      "execution_count": null,
      "outputs": []
    }
  ]
}