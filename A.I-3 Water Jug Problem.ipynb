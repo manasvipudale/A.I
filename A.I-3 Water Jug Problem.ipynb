{
  "nbformat": 4,
  "nbformat_minor": 0,
  "metadata": {
    "colab": {
      "provenance": []
    },
    "kernelspec": {
      "name": "python3",
      "display_name": "Python 3"
    },
    "language_info": {
      "name": "python"
    }
  },
  "cells": [
    {
      "cell_type": "code",
      "execution_count": null,
      "metadata": {
        "id": "li6x9fC_ktpr"
      },
      "outputs": [],
      "source": [
        "#Assignment 3\n",
        "#Name :Manasvi Pudale\n",
        "#Roll-no:3352\n",
        "#Problem statement:Implement Water-Jug Problem using Rule-Based Reasoning Technique"
      ]
    },
    {
      "cell_type": "code",
      "source": [
        "max1=int(input(\"capacity of JUG!:\"))\n",
        "max2= int(input(\"capacity of JUG2:\"))\n",
        "fill=int(input(\"how much liters of water fill in JUG1:\"))\n",
        "\n",
        "def pour(jug1,jug2):\n",
        "  print(\"%d\\t%d\" % (jug1,jug2))\n",
        "  if jug2==fill :\n",
        "    return\n",
        "  elif jug2==max2:\n",
        "    pour(0,jug1)\n",
        "  elif jug1 !=0 and jug2==0:\n",
        "    pour(0,jug1)\n",
        "  elif jug1==fill:\n",
        "    pour(jug1,0)\n",
        "  elif jug1< max1:\n",
        "    pour(max1,jug2)\n",
        "  elif jug1 <(max2-jug2):\n",
        "    pour(0,(jug1+jug2))\n",
        "  else:\n",
        "    pour(jug1-(max2-jug2),(max2-jug2)+jug2)\n",
        "\n",
        "print(\"JUG!\\tJUG2\")\n",
        "pour(0,0)"
      ],
      "metadata": {
        "colab": {
          "base_uri": "https://localhost:8080/"
        },
        "id": "FzDakuLrQAa-",
        "outputId": "3e940b03-92ab-4c74-dca4-fe831bf7c02b"
      },
      "execution_count": null,
      "outputs": [
        {
          "output_type": "stream",
          "name": "stdout",
          "text": [
            "capacity of JUG!:3\n",
            "capacity of JUG2:4\n",
            "how much liters of water fill in JUG1:2\n",
            "JUG!\tJUG2\n",
            "0\t0\n",
            "3\t0\n",
            "0\t3\n",
            "3\t3\n",
            "2\t4\n",
            "0\t2\n"
          ]
        }
      ]
    }
  ]
}